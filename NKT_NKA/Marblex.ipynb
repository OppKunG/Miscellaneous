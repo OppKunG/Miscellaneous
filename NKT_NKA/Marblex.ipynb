{
 "cells": [
  {
   "cell_type": "code",
   "execution_count": 34,
   "metadata": {},
   "outputs": [],
   "source": [
    "import pandas as pd\n",
    "from selenium import webdriver\n",
    "\n",
    "\n",
    "def get_marblex():\n",
    "    driver = webdriver.Chrome()\n",
    "    driver.get('https://coinmarketcap.com/th/currencies/marblex/')\n",
    "    return driver\n",
    "\n",
    "driver = get_marblex()"
   ]
  },
  {
   "cell_type": "code",
   "execution_count": 35,
   "metadata": {},
   "outputs": [
    {
     "data": {
      "text/plain": [
       "'ราคา MARBLEX = ฿332.30'"
      ]
     },
     "execution_count": 35,
     "metadata": {},
     "output_type": "execute_result"
    }
   ],
   "source": [
    "def get_marblex_df(driver):\n",
    "    data = driver.page_source\n",
    "    data_df = pd.read_html(data)[0][0][0]\n",
    "    data_df2 = pd.read_html(data)[0][1][0]\n",
    "    return data_df+' = '+data_df2\n",
    "\n",
    "data_df = get_marblex_df(driver)\n",
    "data_df\n"
   ]
  }
 ],
 "metadata": {
  "kernelspec": {
   "display_name": "Python 3.10.5 64-bit",
   "language": "python",
   "name": "python3"
  },
  "language_info": {
   "codemirror_mode": {
    "name": "ipython",
    "version": 3
   },
   "file_extension": ".py",
   "mimetype": "text/x-python",
   "name": "python",
   "nbconvert_exporter": "python",
   "pygments_lexer": "ipython3",
   "version": "3.10.5"
  },
  "orig_nbformat": 4,
  "vscode": {
   "interpreter": {
    "hash": "c2d93bcbe5fea06597f3f6bb23372374b758ebb586ba5ab20a6ec404cba06160"
   }
  }
 },
 "nbformat": 4,
 "nbformat_minor": 2
}
